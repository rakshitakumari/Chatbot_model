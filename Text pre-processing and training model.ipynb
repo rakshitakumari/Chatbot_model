{
 "cells": [
  {
   "cell_type": "code",
   "execution_count": null,
   "metadata": {},
   "outputs": [],
   "source": [
    "import nltk\n",
    "from nltk.stem.lancaster import LancasterStemmer\n",
    "stemmer = LancasterStemmer()\n",
    "import numpy\n",
    "import tflearn\n",
    "import tensorflow\n",
    "import random\n",
    "import json\n",
    "import pickle\n",
    "with open(\"intents.json\") as file:\n",
    "data = json.load(file)\n",
    "try:\n",
    "with open(\"data.pickle\", \"rb\") as f:\n",
    "words, labels, training, output = pickle.load(f)\n",
    "except:\n",
    "words = []\n",
    "labels = []\n",
    "docs_x = []\n",
    "docs_y = []\n",
    "for intent in data[\"intents\"]:\n",
    "for pattern in intent[\"patterns\"]:\n",
    "wrds = nltk.word_tokenize(pattern)\n",
    "words.extend(wrds)\n",
    "docs_x.append(wrds)\n",
    "docs_y.append(intent[\"tag\"])\n",
    "if intent[\"tag\"] not in labels:\n",
    "labels.append(intent[\"tag\"])\n",
    "words = [stemmer.stem(w.lower()) for w in words if w != \"?\"]\n",
    "words = sorted(list(set(words)))\n",
    "labels = sorted(labels)\n",
    "training = []\n",
    "output = []\n",
    "out_empty = [0 for _ in range(len(labels))]\n",
    "for x, doc in enumerate(docs_x):\n",
    "bag = []\n",
    "wrds = [stemmer.stem(w.lower()) for w in doc]\n",
    "for w in words:\n",
    "if w in wrds:\n",
    "bag.append(1)\n",
    "else:\n",
    "bag.append(0)\n",
    "output_row = out_empty[:]\n",
    "output_row[labels.index(docs_y[x])] = 1\n",
    "training.append(bag)\n",
    "output.append(output_row)\n",
    "\n",
    "training = numpy.array(training)\n",
    "output = numpy.array(output)\n",
    "with open(\"data.pickle\", \"wb\") as f:\n",
    "pickle.dump((words, labels, training, output), f)"
   ]
  },
  {
   "cell_type": "code",
   "execution_count": null,
   "metadata": {},
   "outputs": [],
   "source": [
    "tensorflow.reset_default_graph()\n",
    "net = tflearn.input_data(shape=[None, len(training[0])])\n",
    "net = tflearn.fully_connected(net, 8)\n",
    "net = tflearn.fully_connected(net, 8)\n",
    "net = tflearn.fully_connected(net, len(output[0]), activation=\"softmax\")\n",
    "net = tflearn.regression(net)\n",
    "model = tflearn.DNN(net)\n",
    "try:\n",
    "model.load(\"model.tflearn\")\n",
    "except:\n",
    "model.fit(training, output, n_epoch=1000, batch_size=8, show_metric=True)\n",
    "model.save(\"model.tflearn\")"
   ]
  }
 ],
 "metadata": {
  "kernelspec": {
   "display_name": "Python 3",
   "language": "python",
   "name": "python3"
  },
  "language_info": {
   "codemirror_mode": {
    "name": "ipython",
    "version": 3
   },
   "file_extension": ".py",
   "mimetype": "text/x-python",
   "name": "python",
   "nbconvert_exporter": "python",
   "pygments_lexer": "ipython3",
   "version": "3.7.3"
  }
 },
 "nbformat": 4,
 "nbformat_minor": 4
}
